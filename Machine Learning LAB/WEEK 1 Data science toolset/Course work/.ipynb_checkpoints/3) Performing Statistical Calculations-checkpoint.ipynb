{
 "cells": [
  {
   "cell_type": "markdown",
   "id": "fadbfb29",
   "metadata": {},
   "source": [
    "# Performing Statistical Calculations\n",
    "### Standard deviation, variance, SEM and quantiles can also be calculated\n"
   ]
  },
  {
   "cell_type": "code",
   "execution_count": 2,
   "id": "34e1ee07",
   "metadata": {},
   "outputs": [],
   "source": [
    "import pandas as pd"
   ]
  },
  {
   "cell_type": "code",
   "execution_count": 3,
   "id": "dc12ee25",
   "metadata": {},
   "outputs": [],
   "source": [
    "filepath = 'F:\\Intel AI\\Machine learning\\weel 1\\Class1_Introduction_to_Machine_Learning_and_Tools\\Class1_Introduction_to_Machine_Learning_and_Tools\\data\\Iris_Data.csv'\n",
    "# Import the data\n",
    "data = pd.read_csv(filepath)"
   ]
  },
  {
   "cell_type": "code",
   "execution_count": 4,
   "id": "ec76f20c",
   "metadata": {},
   "outputs": [
    {
     "name": "stdout",
     "output_type": "stream",
     "text": [
      "1.7644204199522617 3.1131794183445156 0.1440643240210084\n"
     ]
    }
   ],
   "source": [
    "# Standard dev, variance, and SEM \n",
    "print(data.petal_length.std(), \n",
    "data.petal_length.var(), \n",
    "data.petal_length.sem())\n"
   ]
  },
  {
   "cell_type": "code",
   "execution_count": 5,
   "id": "85e14817",
   "metadata": {},
   "outputs": [
    {
     "name": "stdout",
     "output_type": "stream",
     "text": [
      "sepal_length    4.3\n",
      "sepal_width     2.0\n",
      "petal_length    1.0\n",
      "petal_width     0.1\n",
      "Name: 0.0, dtype: float64\n"
     ]
    }
   ],
   "source": [
    "# As well as quantiles\n",
    "print(data.quantile(0))"
   ]
  },
  {
   "cell_type": "markdown",
   "id": "30a6797e",
   "metadata": {},
   "source": [
    "# Multiple calculations can be presented in a DataFrame"
   ]
  },
  {
   "cell_type": "code",
   "execution_count": 6,
   "id": "317c3af8",
   "metadata": {},
   "outputs": [
    {
     "name": "stdout",
     "output_type": "stream",
     "text": [
      "       sepal_length  sepal_width  petal_length  petal_width\n",
      "count    150.000000   150.000000    150.000000   150.000000\n",
      "mean       5.843333     3.054000      3.758667     1.198667\n",
      "std        0.828066     0.433594      1.764420     0.763161\n",
      "min        4.300000     2.000000      1.000000     0.100000\n",
      "25%        5.100000     2.800000      1.600000     0.300000\n",
      "50%        5.800000     3.000000      4.350000     1.300000\n",
      "75%        6.400000     3.300000      5.100000     1.800000\n",
      "max        7.900000     4.400000      6.900000     2.500000\n"
     ]
    }
   ],
   "source": [
    "print(data.describe())"
   ]
  },
  {
   "cell_type": "markdown",
   "id": "b1f8b8d6",
   "metadata": {},
   "source": [
    "## Sampling from DataFrames\n",
    "## DataFrames can be randomly sampled from"
   ]
  },
  {
   "cell_type": "code",
   "execution_count": 7,
   "id": "4b7b3006",
   "metadata": {},
   "outputs": [
    {
     "name": "stdout",
     "output_type": "stream",
     "text": [
      "     petal_length  petal_width          species\n",
      "73            4.7          1.2  Iris-versicolor\n",
      "18            1.7          0.3      Iris-setosa\n",
      "118           6.9          2.3   Iris-virginica\n",
      "78            4.5          1.5  Iris-versicolor\n",
      "76            4.8          1.4  Iris-versicolor\n"
     ]
    }
   ],
   "source": [
    "# Sample 5 rows without replacement\n",
    "sample = (data\n",
    ".sample(n=5,\n",
    "replace=False,\n",
    "random_state=42))\n",
    "print(sample.iloc[:,-3:])"
   ]
  }
 ],
 "metadata": {
  "kernelspec": {
   "display_name": "Python 3 (ipykernel)",
   "language": "python",
   "name": "python3"
  },
  "language_info": {
   "codemirror_mode": {
    "name": "ipython",
    "version": 3
   },
   "file_extension": ".py",
   "mimetype": "text/x-python",
   "name": "python",
   "nbconvert_exporter": "python",
   "pygments_lexer": "ipython3",
   "version": "3.9.13"
  }
 },
 "nbformat": 4,
 "nbformat_minor": 5
}
