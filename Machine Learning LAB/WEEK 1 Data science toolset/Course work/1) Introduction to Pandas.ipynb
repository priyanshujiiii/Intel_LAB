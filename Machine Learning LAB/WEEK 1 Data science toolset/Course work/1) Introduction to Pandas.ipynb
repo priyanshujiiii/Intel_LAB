{
 "cells": [
  {
   "cell_type": "markdown",
   "id": "da9fcbac",
   "metadata": {},
   "source": [
    "Learning Objectives\n",
    "\n",
    "\n",
    "• Demonstrate supervised learning algorithms\n",
    "\n",
    "• Explain key concepts like under- and over-fitting, \n",
    "regularization, and cross-validation\n",
    "\n",
    "• Classify the type of problem to be solved, choose the \n",
    "right algorithm, tune parameters, and validate a model\n",
    "\n",
    "• Apply Intel® Extension for Scikit-learn* to leverage \n",
    "underlying compute capabilities of hardware\n"
   ]
  },
  {
   "cell_type": "markdown",
   "id": "fc1444c0",
   "metadata": {},
   "source": [
    "Our Toolset: Intel® oneAPI AI Analytics Toolkit (AI Kit)\n",
    "\n",
    "• Jupyter notebooks: interactive coding and \n",
    "visualization of output\n",
    "• NumPy, SciPy, Pandas: numerical computation\n",
    "• Matplotlib, Seaborn: data visualization\n",
    "• Scikit-learn: machine learning"
   ]
  },
  {
   "cell_type": "markdown",
   "id": "a9314ba8",
   "metadata": {},
   "source": [
    "Introduction to Pandas\n",
    "• Library for computation with tabular data\n",
    "• Mixed types of data allowed in a single \n",
    "table\n",
    "• Columns and rows of data can be named\n",
    "• Advanced data aggregation and statistical \n",
    "functions"
   ]
  },
  {
   "cell_type": "markdown",
   "id": "846d4e37",
   "metadata": {},
   "source": [
    "Introduction to Pandas\n",
    "Vector \n",
    "(1 Dimension) = Series\n",
    "Array\n",
    "(2 Dimensions)\n",
    "Basic data structures = DataFrame\n"
   ]
  },
  {
   "cell_type": "markdown",
   "id": "34041768",
   "metadata": {},
   "source": [
    "(1 Dimension) = Series\n",
    "\n",
    "Pandas Series Creation and Indexing\n",
    "Use data from step tracking application to create a Pandas Series"
   ]
  },
  {
   "cell_type": "code",
   "execution_count": 1,
   "id": "6751e665",
   "metadata": {},
   "outputs": [
    {
     "name": "stdout",
     "output_type": "stream",
     "text": [
      "0    3620\n",
      "1    7891\n",
      "2    9761\n",
      "3    3907\n",
      "4    4338\n",
      "5    5373\n",
      "Name: steps, dtype: int64\n"
     ]
    }
   ],
   "source": [
    "import pandas as pd\n",
    "step_data = [3620, 7891, 9761, \n",
    "3907, 4338, 5373]\n",
    "step_counts = pd.Series(step_data, \n",
    "name='steps')\n",
    "print(step_counts)"
   ]
  },
  {
   "cell_type": "markdown",
   "id": "69dcedba",
   "metadata": {},
   "source": [
    "Pandas Series Creation and Indexing\n",
    "Add a date range to the Series"
   ]
  },
  {
   "cell_type": "code",
   "execution_count": 2,
   "id": "78b14bf5",
   "metadata": {},
   "outputs": [
    {
     "name": "stdout",
     "output_type": "stream",
     "text": [
      "2015-03-29    3620\n",
      "2015-03-30    7891\n",
      "2015-03-31    9761\n",
      "2015-04-01    3907\n",
      "2015-04-02    4338\n",
      "2015-04-03    5373\n",
      "Freq: D, Name: steps, dtype: int64\n"
     ]
    }
   ],
   "source": [
    "step_counts.index = pd.date_range('20150329', \n",
    "periods=6)\n",
    "print(step_counts)"
   ]
  },
  {
   "cell_type": "markdown",
   "id": "bb14422b",
   "metadata": {},
   "source": [
    "Pandas Series Creation and Indexing\n",
    "Select data by the index values"
   ]
  },
  {
   "cell_type": "code",
   "execution_count": 4,
   "id": "714e5dba",
   "metadata": {},
   "outputs": [
    {
     "name": "stdout",
     "output_type": "stream",
     "text": [
      "3907\n"
     ]
    }
   ],
   "source": [
    "print(step_counts['2015-04-01'])\n"
   ]
  },
  {
   "cell_type": "markdown",
   "id": "a855d29f",
   "metadata": {},
   "source": [
    "Or by index position--like an array\n"
   ]
  },
  {
   "cell_type": "code",
   "execution_count": 5,
   "id": "8c2f718f",
   "metadata": {},
   "outputs": [
    {
     "name": "stdout",
     "output_type": "stream",
     "text": [
      "3907\n"
     ]
    }
   ],
   "source": [
    "print(step_counts[3])"
   ]
  },
  {
   "cell_type": "markdown",
   "id": "4cb078fb",
   "metadata": {},
   "source": [
    "Select all of April\n"
   ]
  },
  {
   "cell_type": "code",
   "execution_count": 6,
   "id": "eeafa297",
   "metadata": {},
   "outputs": [
    {
     "name": "stdout",
     "output_type": "stream",
     "text": [
      "2015-04-01    3907\n",
      "2015-04-02    4338\n",
      "2015-04-03    5373\n",
      "Freq: D, Name: steps, dtype: int64\n"
     ]
    }
   ],
   "source": [
    "print(step_counts['2015-04'])\n"
   ]
  },
  {
   "cell_type": "markdown",
   "id": "13980f16",
   "metadata": {},
   "source": [
    "## Pandas Data Types and Imputation\n",
    "## Data types can be viewed and converted\n"
   ]
  },
  {
   "cell_type": "markdown",
   "id": "f4f5bd8c",
   "metadata": {},
   "source": [
    " View the data type\n"
   ]
  },
  {
   "cell_type": "code",
   "execution_count": 15,
   "id": "967f5eaa",
   "metadata": {},
   "outputs": [
    {
     "name": "stdout",
     "output_type": "stream",
     "text": [
      "float64\n"
     ]
    }
   ],
   "source": [
    "print(step_counts.dtypes)\n"
   ]
  },
  {
   "cell_type": "markdown",
   "id": "0d8bb63d",
   "metadata": {},
   "source": [
    "Convert to a float"
   ]
  },
  {
   "cell_type": "code",
   "execution_count": 16,
   "id": "d7445896",
   "metadata": {},
   "outputs": [
    {
     "name": "stdout",
     "output_type": "stream",
     "text": [
      "float64\n"
     ]
    },
    {
     "name": "stderr",
     "output_type": "stream",
     "text": [
      "C:\\Users\\priya\\AppData\\Local\\Temp\\ipykernel_11008\\2756244424.py:1: DeprecationWarning: `np.float` is a deprecated alias for the builtin `float`. To silence this warning, use `float` by itself. Doing this will not modify any behavior and is safe. If you specifically wanted the numpy scalar type, use `np.float64` here.\n",
      "Deprecated in NumPy 1.20; for more details and guidance: https://numpy.org/devdocs/release/1.20.0-notes.html#deprecations\n",
      "  step_counts = step_counts.astype(np.float)\n"
     ]
    }
   ],
   "source": [
    "step_counts = step_counts.astype(np.float)\n",
    "print(step_counts.dtypes)\n"
   ]
  },
  {
   "cell_type": "markdown",
   "id": "14c8d385",
   "metadata": {},
   "source": [
    "Pandas Data Types and Imputation\n",
    "Code\n",
    "Invalid data points can be easily filled with values\n",
    "\n",
    "Create invalid data"
   ]
  },
  {
   "cell_type": "code",
   "execution_count": 17,
   "id": "1b2e7eb0",
   "metadata": {},
   "outputs": [],
   "source": [
    "step_counts[1:3] = np.NaN"
   ]
  },
  {
   "cell_type": "markdown",
   "id": "f9f5077d",
   "metadata": {},
   "source": [
    "Now fill it in with zeros"
   ]
  },
  {
   "cell_type": "code",
   "execution_count": 18,
   "id": "3d6f9120",
   "metadata": {},
   "outputs": [
    {
     "name": "stdout",
     "output_type": "stream",
     "text": [
      "2015-03-30    0.0\n",
      "2015-03-31    0.0\n",
      "Freq: D, Name: steps, dtype: float64\n"
     ]
    }
   ],
   "source": [
    "step_counts = step_counts.fillna(0.)\n",
    "print(step_counts[1:3])"
   ]
  },
  {
   "cell_type": "markdown",
   "id": "7c907222",
   "metadata": {},
   "source": [
    "Pandas DataFrame Creation and Methods\n",
    "DataFrames can be created from lists, dictionaries, and Pandas Series\n",
    "\n",
    "Cycling distance\n",
    "\n",
    "Create a tuple of data\n",
    "The dataframe"
   ]
  },
  {
   "cell_type": "code",
   "execution_count": 22,
   "id": "a0d46785",
   "metadata": {},
   "outputs": [
    {
     "name": "stdout",
     "output_type": "stream",
     "text": [
      "      0     1\n",
      "0  3620  10.7\n",
      "1  7891   0.0\n",
      "2  9761   NaN\n",
      "3  3907   2.4\n",
      "4  4338  15.3\n",
      "5  5373  10.9\n"
     ]
    }
   ],
   "source": [
    "# Cycling distance\n",
    "cycling_data = [10.7, 0, None, 2.4, 15.3, \n",
    "10.9, 0, None]\n",
    "# Create a tuple of data\n",
    "joined_data = list(zip(step_data, \n",
    "cycling_data))\n",
    "# The dataframe\n",
    "activity_df = pd.DataFrame(joined_data)\n",
    "print(activity_df)\n"
   ]
  },
  {
   "cell_type": "markdown",
   "id": "023547a1",
   "metadata": {},
   "source": [
    "# Labeled columns and an index can be added"
   ]
  },
  {
   "cell_type": "code",
   "execution_count": 23,
   "id": "be2d6892",
   "metadata": {},
   "outputs": [
    {
     "name": "stdout",
     "output_type": "stream",
     "text": [
      "            Walking  Cycling\n",
      "2015-03-29     3620     10.7\n",
      "2015-03-30     7891      0.0\n",
      "2015-03-31     9761      NaN\n",
      "2015-04-01     3907      2.4\n",
      "2015-04-02     4338     15.3\n",
      "2015-04-03     5373     10.9\n"
     ]
    }
   ],
   "source": [
    "# Add column names to dataframe\n",
    "activity_df = pd.DataFrame(\n",
    "joined_data,\n",
    "index=pd.date_range('20150329', periods=6),\n",
    "columns=['Walking','Cycling'])\n",
    "print(activity_df)"
   ]
  },
  {
   "cell_type": "markdown",
   "id": "c7fd461d",
   "metadata": {},
   "source": [
    "# DataFrame rows can be indexed by row using the 'loc' and 'iloc' methods\n"
   ]
  },
  {
   "cell_type": "code",
   "execution_count": 24,
   "id": "51940353",
   "metadata": {},
   "outputs": [
    {
     "name": "stdout",
     "output_type": "stream",
     "text": [
      "Walking    3907.0\n",
      "Cycling       2.4\n",
      "Name: 2015-04-01 00:00:00, dtype: float64\n"
     ]
    }
   ],
   "source": [
    "# Select row of data by index name\n",
    "print(activity_df.loc['2015-04-01'])"
   ]
  },
  {
   "cell_type": "code",
   "execution_count": 25,
   "id": "739d8090",
   "metadata": {},
   "outputs": [
    {
     "name": "stdout",
     "output_type": "stream",
     "text": [
      "Walking    3907.0\n",
      "Cycling       2.4\n",
      "Name: 2015-04-01 00:00:00, dtype: float64\n"
     ]
    }
   ],
   "source": [
    "# Select row of data by integer position\n",
    "print(activity_df.iloc[-3])"
   ]
  },
  {
   "cell_type": "markdown",
   "id": "b50e60ce",
   "metadata": {},
   "source": [
    "# DataFrame columns can be indexed by name\n"
   ]
  },
  {
   "cell_type": "code",
   "execution_count": 26,
   "id": "a883d3b6",
   "metadata": {},
   "outputs": [
    {
     "name": "stdout",
     "output_type": "stream",
     "text": [
      "2015-03-29    3620\n",
      "2015-03-30    7891\n",
      "2015-03-31    9761\n",
      "2015-04-01    3907\n",
      "2015-04-02    4338\n",
      "2015-04-03    5373\n",
      "Freq: D, Name: Walking, dtype: int64\n"
     ]
    }
   ],
   "source": [
    "# Name of column\n",
    "print(activity_df['Walking'])\n"
   ]
  },
  {
   "cell_type": "markdown",
   "id": "26603aeb",
   "metadata": {},
   "source": [
    "# DataFrame columns can also be indexed as properties\n"
   ]
  },
  {
   "cell_type": "code",
   "execution_count": 27,
   "id": "f9219e3f",
   "metadata": {},
   "outputs": [
    {
     "name": "stdout",
     "output_type": "stream",
     "text": [
      "2015-03-29    3620\n",
      "2015-03-30    7891\n",
      "2015-03-31    9761\n",
      "2015-04-01    3907\n",
      "2015-04-02    4338\n",
      "2015-04-03    5373\n",
      "Freq: D, Name: Walking, dtype: int64\n"
     ]
    }
   ],
   "source": [
    "# Object-oriented approach\n",
    "print(activity_df.Walking)"
   ]
  }
 ],
 "metadata": {
  "kernelspec": {
   "display_name": "Python 3 (ipykernel)",
   "language": "python",
   "name": "python3"
  },
  "language_info": {
   "codemirror_mode": {
    "name": "ipython",
    "version": 3
   },
   "file_extension": ".py",
   "mimetype": "text/x-python",
   "name": "python",
   "nbconvert_exporter": "python",
   "pygments_lexer": "ipython3",
   "version": "3.9.13"
  }
 },
 "nbformat": 4,
 "nbformat_minor": 5
}
