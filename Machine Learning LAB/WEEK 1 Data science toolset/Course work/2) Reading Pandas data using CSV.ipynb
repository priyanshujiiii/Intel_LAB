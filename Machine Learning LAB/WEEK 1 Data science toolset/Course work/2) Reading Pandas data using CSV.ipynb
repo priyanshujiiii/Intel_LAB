{
 "cells": [
  {
   "cell_type": "code",
   "execution_count": 4,
   "id": "0c511ab9",
   "metadata": {
    "scrolled": true
   },
   "outputs": [],
   "source": [
    "import pandas as pd"
   ]
  },
  {
   "cell_type": "code",
   "execution_count": 7,
   "id": "7b93fb3d",
   "metadata": {},
   "outputs": [
    {
     "name": "stdout",
     "output_type": "stream",
     "text": [
      "   sepal_length  sepal_width  petal_length  petal_width      species\n",
      "0           5.1          3.5           1.4          0.2  Iris-setosa\n",
      "1           4.9          3.0           1.4          0.2  Iris-setosa\n",
      "2           4.7          3.2           1.3          0.2  Iris-setosa\n",
      "3           4.6          3.1           1.5          0.2  Iris-setosa\n",
      "4           5.0          3.6           1.4          0.2  Iris-setosa\n"
     ]
    }
   ],
   "source": [
    "filepath = 'F:\\Intel AI\\Machine learning\\weel 1\\Class1_Introduction_to_Machine_Learning_and_Tools\\Class1_Introduction_to_Machine_Learning_and_Tools\\data\\Iris_Data.csv'\n",
    "# Import the data\n",
    "data = pd.read_csv(filepath)\n",
    "# Print a few rows \n",
    "print(data.iloc[:5])\n"
   ]
  },
  {
   "cell_type": "markdown",
   "id": "a7155ff4",
   "metadata": {},
   "source": [
    "# Assigning New Data to a DataFrame\n",
    "Data can be (re-)assigned to a DataFrame column\n"
   ]
  },
  {
   "cell_type": "code",
   "execution_count": 9,
   "id": "2a0c1fa5",
   "metadata": {},
   "outputs": [
    {
     "name": "stdout",
     "output_type": "stream",
     "text": [
      "   petal_width      species  sepal_area\n",
      "0          0.2  Iris-setosa       17.85\n",
      "1          0.2  Iris-setosa       14.70\n",
      "2          0.2  Iris-setosa       15.04\n",
      "3          0.2  Iris-setosa       14.26\n",
      "4          0.2  Iris-setosa       18.00\n"
     ]
    }
   ],
   "source": [
    "# Create a new column that is a product \n",
    "# of both measurements\n",
    "data['sepal_area'] = data.sepal_length * data.sepal_width\n",
    "# Print a few rows and columns\n",
    "print(data.iloc[:5, -3:])"
   ]
  },
  {
   "cell_type": "markdown",
   "id": "66744b75",
   "metadata": {},
   "source": [
    "Applying a Function to a DataFrame Column\n",
    "Functions can be applied to columns or rows of a DataFrame or Series\n"
   ]
  },
  {
   "cell_type": "code",
   "execution_count": 10,
   "id": "6feaec80",
   "metadata": {},
   "outputs": [
    {
     "name": "stdout",
     "output_type": "stream",
     "text": [
      "       species  sepal_area  abbrev\n",
      "0  Iris-setosa       17.85  setosa\n",
      "1  Iris-setosa       14.70  setosa\n",
      "2  Iris-setosa       15.04  setosa\n",
      "3  Iris-setosa       14.26  setosa\n",
      "4  Iris-setosa       18.00  setosa\n"
     ]
    }
   ],
   "source": [
    "# The lambda function applies what \n",
    "# follows it to each row of data\n",
    "data['abbrev'] = (data\n",
    ".species\n",
    ".apply(lambda x: \n",
    "x.replace('Iris-','')))\n",
    "# Note that there are other ways to \n",
    "# accomplish the above\n",
    "print(data.iloc[:5, -3:])\n"
   ]
  },
  {
   "cell_type": "markdown",
   "id": "9b43e02f",
   "metadata": {},
   "source": [
    "# Concatenating Two DataFrames\n",
    "Two DataFrames can be concatenated along either dimension \n"
   ]
  },
  {
   "cell_type": "code",
   "execution_count": 11,
   "id": "988e6df4",
   "metadata": {},
   "outputs": [
    {
     "name": "stdout",
     "output_type": "stream",
     "text": [
      "            species  sepal_area     abbrev\n",
      "0       Iris-setosa       17.85     setosa\n",
      "1       Iris-setosa       14.70     setosa\n",
      "148  Iris-virginica       21.08  virginica\n",
      "149  Iris-virginica       17.70  virginica\n"
     ]
    }
   ],
   "source": [
    "# Concatenate the first two and \n",
    "# last two rows\n",
    "small_data = pd.concat([data.iloc[:2],\n",
    "data.iloc[-2:]])\n",
    "print(small_data.iloc[:,-3:])\n",
    "# See the 'join' method for\n",
    "# SQL style joining of dataframes"
   ]
  },
  {
   "cell_type": "markdown",
   "id": "ef2c73b2",
   "metadata": {},
   "source": [
    "# Aggregated Statistics with GroupBy\n",
    "Using the groupby method calculated aggregated DataFrame statistics\n"
   ]
  },
  {
   "cell_type": "code",
   "execution_count": 12,
   "id": "6f9cea40",
   "metadata": {},
   "outputs": [
    {
     "name": "stdout",
     "output_type": "stream",
     "text": [
      "species\n",
      "Iris-setosa        50\n",
      "Iris-versicolor    50\n",
      "Iris-virginica     50\n",
      "dtype: int64\n"
     ]
    }
   ],
   "source": [
    "# Use the size method with a \n",
    "# DataFrame to get count\n",
    "# For a Series, use the .value_counts\n",
    "# method\n",
    "group_sizes = (data\n",
    ".groupby('species')\n",
    ".size())\n",
    "print(group_sizes)"
   ]
  },
  {
   "cell_type": "markdown",
   "id": "38bbbe48",
   "metadata": {},
   "source": [
    "# Performing Statistical Calculations\n",
    "## Pandas contains a variety of statistical methods—mean, median, and mode\n"
   ]
  },
  {
   "cell_type": "code",
   "execution_count": 13,
   "id": "fb208a5a",
   "metadata": {},
   "outputs": [
    {
     "name": "stdout",
     "output_type": "stream",
     "text": [
      "sepal_length     5.843333\n",
      "sepal_width      3.054000\n",
      "petal_length     3.758667\n",
      "petal_width      1.198667\n",
      "sepal_area      17.806533\n",
      "dtype: float64\n"
     ]
    },
    {
     "name": "stderr",
     "output_type": "stream",
     "text": [
      "C:\\Users\\priya\\AppData\\Local\\Temp\\ipykernel_6704\\1123394750.py:2: FutureWarning: Dropping of nuisance columns in DataFrame reductions (with 'numeric_only=None') is deprecated; in a future version this will raise TypeError.  Select only valid columns before calling the reduction.\n",
      "  print(data.mean())\n"
     ]
    }
   ],
   "source": [
    "# Mean calculated on a DataFrame\n",
    "print(data.mean())\n"
   ]
  },
  {
   "cell_type": "code",
   "execution_count": 14,
   "id": "6c2240b3",
   "metadata": {},
   "outputs": [
    {
     "name": "stdout",
     "output_type": "stream",
     "text": [
      "4.35\n"
     ]
    }
   ],
   "source": [
    "# Median calculated on a Series\n",
    "print(data.petal_length.median())"
   ]
  },
  {
   "cell_type": "code",
   "execution_count": 15,
   "id": "de9282c5",
   "metadata": {},
   "outputs": [
    {
     "name": "stdout",
     "output_type": "stream",
     "text": [
      "0    1.5\n",
      "Name: petal_length, dtype: float64\n"
     ]
    }
   ],
   "source": [
    "# Mode calculated on a Series\n",
    "print(data.petal_length.mode())"
   ]
  }
 ],
 "metadata": {
  "kernelspec": {
   "display_name": "Python 3 (ipykernel)",
   "language": "python",
   "name": "python3"
  },
  "language_info": {
   "codemirror_mode": {
    "name": "ipython",
    "version": 3
   },
   "file_extension": ".py",
   "mimetype": "text/x-python",
   "name": "python",
   "nbconvert_exporter": "python",
   "pygments_lexer": "ipython3",
   "version": "3.9.13"
  }
 },
 "nbformat": 4,
 "nbformat_minor": 5
}
